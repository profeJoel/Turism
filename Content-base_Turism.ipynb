{
 "cells": [
  {
   "cell_type": "code",
   "execution_count": 2,
   "id": "40c81fa3",
   "metadata": {},
   "outputs": [],
   "source": [
    "import pandas as pd\n",
    "import numpy as np\n",
    "from sklearn.feature_extraction.text import TfidfVectorizer\n",
    "from sklearn.metrics.pairwise import linear_kernel"
   ]
  },
  {
   "cell_type": "code",
   "execution_count": 4,
   "id": "7b4db1cc",
   "metadata": {},
   "outputs": [],
   "source": [
    "df_coddi = pd.read_csv('coddi_simple_model.csv')"
   ]
  },
  {
   "cell_type": "code",
   "execution_count": 6,
   "id": "b74183d8",
   "metadata": {},
   "outputs": [
    {
     "data": {
      "text/html": [
       "<div>\n",
       "<style scoped>\n",
       "    .dataframe tbody tr th:only-of-type {\n",
       "        vertical-align: middle;\n",
       "    }\n",
       "\n",
       "    .dataframe tbody tr th {\n",
       "        vertical-align: top;\n",
       "    }\n",
       "\n",
       "    .dataframe thead th {\n",
       "        text-align: right;\n",
       "    }\n",
       "</style>\n",
       "<table border=\"1\" class=\"dataframe\">\n",
       "  <thead>\n",
       "    <tr style=\"text-align: right;\">\n",
       "      <th></th>\n",
       "      <th>item_id</th>\n",
       "      <th>name</th>\n",
       "      <th>latitude</th>\n",
       "      <th>longitude</th>\n",
       "      <th>global_average_rating</th>\n",
       "      <th>reviews_count</th>\n",
       "      <th>plan</th>\n",
       "      <th>review_id</th>\n",
       "      <th>average_rating</th>\n",
       "      <th>timestamp</th>\n",
       "      <th>user_id</th>\n",
       "    </tr>\n",
       "  </thead>\n",
       "  <tbody>\n",
       "    <tr>\n",
       "      <th>0</th>\n",
       "      <td>628858c72e93ec29e035fcd9</td>\n",
       "      <td>'Agua del Manzano'</td>\n",
       "      <td>-33.002696</td>\n",
       "      <td>-71.062806</td>\n",
       "      <td>4.00</td>\n",
       "      <td>1</td>\n",
       "      <td>628858c72e93ec29e035fcec</td>\n",
       "      <td>4.00</td>\n",
       "      <td>2016-08-16 10:53:40</td>\n",
       "      <td>628858c72e93ec29e035fceb</td>\n",
       "      <td>NaN</td>\n",
       "    </tr>\n",
       "    <tr>\n",
       "      <th>1</th>\n",
       "      <td>628858c72e93ec29e035fced</td>\n",
       "      <td>'Aldea de Tulor'</td>\n",
       "      <td>-22.964724</td>\n",
       "      <td>-68.237332</td>\n",
       "      <td>4.00</td>\n",
       "      <td>1</td>\n",
       "      <td>628858c72e93ec29e035fd00</td>\n",
       "      <td>4.00</td>\n",
       "      <td>2015-11-16 03:31:19</td>\n",
       "      <td>628858c72e93ec29e035fcff</td>\n",
       "      <td>NaN</td>\n",
       "    </tr>\n",
       "    <tr>\n",
       "      <th>2</th>\n",
       "      <td>628858c72e93ec29e035fd01</td>\n",
       "      <td>'Aguada Los Sapos'</td>\n",
       "      <td>-26.165451</td>\n",
       "      <td>-70.630121</td>\n",
       "      <td>3.00</td>\n",
       "      <td>1</td>\n",
       "      <td>628858c72e93ec29e035fd14</td>\n",
       "      <td>3.00</td>\n",
       "      <td>2015-12-14 08:09:36</td>\n",
       "      <td>628858c72e93ec29e035fd13</td>\n",
       "      <td>NaN</td>\n",
       "    </tr>\n",
       "    <tr>\n",
       "      <th>3</th>\n",
       "      <td>628858c72e93ec29e035fd15</td>\n",
       "      <td>'Alerce Milenario - Lañilahual'</td>\n",
       "      <td>-40.170024</td>\n",
       "      <td>-73.465583</td>\n",
       "      <td>4.50</td>\n",
       "      <td>1</td>\n",
       "      <td>628858c72e93ec29e035fd28</td>\n",
       "      <td>4.50</td>\n",
       "      <td>2015-06-18 02:41:54</td>\n",
       "      <td>628858c72e93ec29e035fd27</td>\n",
       "      <td>NaN</td>\n",
       "    </tr>\n",
       "    <tr>\n",
       "      <th>4</th>\n",
       "      <td>628858c72e93ec29e035fd29</td>\n",
       "      <td>'Arboretum'</td>\n",
       "      <td>-33.725292</td>\n",
       "      <td>-70.487355</td>\n",
       "      <td>2.25</td>\n",
       "      <td>1</td>\n",
       "      <td>628858c72e93ec29e035fd3c</td>\n",
       "      <td>2.25</td>\n",
       "      <td>2015-08-18 10:30:57</td>\n",
       "      <td>628858c72e93ec29e035fd3b</td>\n",
       "      <td>NaN</td>\n",
       "    </tr>\n",
       "  </tbody>\n",
       "</table>\n",
       "</div>"
      ],
      "text/plain": [
       "                    item_id                             name   latitude  \\\n",
       "0  628858c72e93ec29e035fcd9               'Agua del Manzano' -33.002696   \n",
       "1  628858c72e93ec29e035fced                 'Aldea de Tulor' -22.964724   \n",
       "2  628858c72e93ec29e035fd01               'Aguada Los Sapos' -26.165451   \n",
       "3  628858c72e93ec29e035fd15  'Alerce Milenario - Lañilahual' -40.170024   \n",
       "4  628858c72e93ec29e035fd29                      'Arboretum' -33.725292   \n",
       "\n",
       "   longitude  global_average_rating  reviews_count                       plan  \\\n",
       "0 -71.062806                   4.00              1   628858c72e93ec29e035fcec   \n",
       "1 -68.237332                   4.00              1   628858c72e93ec29e035fd00   \n",
       "2 -70.630121                   3.00              1   628858c72e93ec29e035fd14   \n",
       "3 -73.465583                   4.50              1   628858c72e93ec29e035fd28   \n",
       "4 -70.487355                   2.25              1   628858c72e93ec29e035fd3c   \n",
       "\n",
       "   review_id       average_rating                 timestamp  user_id  \n",
       "0       4.00  2016-08-16 10:53:40  628858c72e93ec29e035fceb      NaN  \n",
       "1       4.00  2015-11-16 03:31:19  628858c72e93ec29e035fcff      NaN  \n",
       "2       3.00  2015-12-14 08:09:36  628858c72e93ec29e035fd13      NaN  \n",
       "3       4.50  2015-06-18 02:41:54  628858c72e93ec29e035fd27      NaN  \n",
       "4       2.25  2015-08-18 10:30:57  628858c72e93ec29e035fd3b      NaN  "
      ]
     },
     "execution_count": 6,
     "metadata": {},
     "output_type": "execute_result"
    }
   ],
   "source": [
    "df_coddi.head()"
   ]
  },
  {
   "cell_type": "code",
   "execution_count": 8,
   "id": "a857d174",
   "metadata": {},
   "outputs": [
    {
     "data": {
      "text/plain": [
       "0                         'Agua del Manzano'\n",
       "1                           'Aldea de Tulor'\n",
       "2                         'Aguada Los Sapos'\n",
       "3            'Alerce Milenario - Lañilahual'\n",
       "4                                'Arboretum'\n",
       "                        ...                 \n",
       "8143        'Car wash up to midsize campers'\n",
       "8144    'Summer traffic - plan accordingly!'\n",
       "8145                     'Public WC Toilets'\n",
       "8146            'Beautiful new tarmac road!'\n",
       "8147                'Laguna espejo/glaciar '\n",
       "Name: name, Length: 8148, dtype: object"
      ]
     },
     "execution_count": 8,
     "metadata": {},
     "output_type": "execute_result"
    }
   ],
   "source": [
    "df_coddi['name']"
   ]
  },
  {
   "cell_type": "code",
   "execution_count": 19,
   "id": "aac5ae0f",
   "metadata": {},
   "outputs": [],
   "source": [
    "#Vectorización en Inglés\n",
    "tfidf = TfidfVectorizer(stop_words=\"english\")\n",
    "df_coddi['name'] = df_coddi['name'].fillna(\"\")\n",
    "tfidf_matrix = tfidf.fit_transform(df_coddi['name'])"
   ]
  },
  {
   "cell_type": "code",
   "execution_count": 20,
   "id": "071e049d",
   "metadata": {},
   "outputs": [],
   "source": [
    "#Creación del indicador de similaridad entre POI\n",
    "cosine_sim = linear_kernel(tfidf_matrix, tfidf_matrix)"
   ]
  },
  {
   "cell_type": "code",
   "execution_count": 21,
   "id": "cf01cfcf",
   "metadata": {},
   "outputs": [
    {
     "data": {
      "text/plain": [
       "name\n",
       "'Agua del Manzano'                         0\n",
       "'Aldea de Tulor'                           1\n",
       "'Aguada Los Sapos'                         2\n",
       "'Alerce Milenario - Lañilahual'            3\n",
       "'Arboretum'                                4\n",
       "                                        ... \n",
       "'Car wash up to midsize campers'        8143\n",
       "'Summer traffic - plan accordingly!'    8144\n",
       "'Public WC Toilets'                     8145\n",
       "'Beautiful new tarmac road!'            8146\n",
       "'Laguna espejo/glaciar '                8147\n",
       "Length: 8148, dtype: int64"
      ]
     },
     "execution_count": 21,
     "metadata": {},
     "output_type": "execute_result"
    }
   ],
   "source": [
    "#Creación de indices por POI\n",
    "indices = pd.Series(df_coddi.index, index= df_coddi['name']).drop_duplicates()\n",
    "indices"
   ]
  },
  {
   "cell_type": "code",
   "execution_count": 27,
   "id": "be70d90c",
   "metadata": {},
   "outputs": [
    {
     "data": {
      "text/plain": [
       "8143"
      ]
     },
     "execution_count": 27,
     "metadata": {},
     "output_type": "execute_result"
    }
   ],
   "source": [
    "#Verificación -> nombre con '###'\n",
    "indices[\"'Car wash up to midsize campers'\"]"
   ]
  },
  {
   "cell_type": "code",
   "execution_count": 30,
   "id": "da1317e1",
   "metadata": {},
   "outputs": [],
   "source": [
    "def get_recommendations(name, cosine_sim = cosine_sim):\n",
    "    idx = indices[name]\n",
    "    sim_scores = enumerate(cosine_sim[idx])\n",
    "    sim_scores = sorted(sim_scores, key=lambda x: x[1], reverse=True)\n",
    "    sim_scores = sim_scores[1:11]\n",
    "    \n",
    "    sim_index = [i[0] for i in sim_scores]\n",
    "    print(df_coddi['name'].iloc[sim_index])"
   ]
  },
  {
   "cell_type": "code",
   "execution_count": 34,
   "id": "16d5129b",
   "metadata": {},
   "outputs": [
    {
     "name": "stdout",
     "output_type": "stream",
     "text": [
      "398         'Los Andes'\n",
      "1983        'Los Andes'\n",
      "6879       'Los Leones'\n",
      "170     'Los Arrayanes'\n",
      "799      'Los Pioneros'\n",
      "2269       'los hornos'\n",
      "445        'Los Olivos'\n",
      "175      'Los Huemules'\n",
      "329       'Los Perales'\n",
      "1379       'los boldos'\n",
      "Name: name, dtype: object\n"
     ]
    }
   ],
   "source": [
    "# Entrega lista de recomendación\n",
    "get_recommendations(\"'Aguada Los Sapos'\")"
   ]
  },
  {
   "cell_type": "code",
   "execution_count": 36,
   "id": "66da8255",
   "metadata": {},
   "outputs": [
    {
     "name": "stdout",
     "output_type": "stream",
     "text": [
      "4899                       'Estacionamento - car wash'\n",
      "4755                               'Lubricam Car Wash'\n",
      "8022                              ''El Che' Car Wash '\n",
      "5600                                   'Andes Campers'\n",
      "5617                                   'Andes Campers'\n",
      "8078                           'Pre-shipping car wash'\n",
      "8030                'Car Wash Polariauto - Great job!'\n",
      "5716    'Car/bike wash with a small garrage Alejandro'\n",
      "1821                                     'Car parking'\n",
      "4257                                     'Car parking'\n",
      "Name: name, dtype: object\n"
     ]
    }
   ],
   "source": [
    "# Entrega lista de recomendación\n",
    "get_recommendations(\"'Car wash up to midsize campers'\")"
   ]
  },
  {
   "cell_type": "code",
   "execution_count": 37,
   "id": "e6aa7aef",
   "metadata": {},
   "outputs": [
    {
     "name": "stdout",
     "output_type": "stream",
     "text": [
      "0                                 'Agua del Manzano'\n",
      "1                                   'Aldea de Tulor'\n",
      "2                                 'Aguada Los Sapos'\n",
      "3                    'Alerce Milenario - Lañilahual'\n",
      "5     'Alto del Naranjo vía San Carlos de Apoquindo'\n",
      "6                                 'Baños Campanario'\n",
      "7               'Alto del Naranjo por Puente Ñilhue'\n",
      "8                                     'Baños Azules'\n",
      "9                                     'Baños Coyuco'\n",
      "10                             'Baños del Tupungato'\n",
      "Name: name, dtype: object\n"
     ]
    }
   ],
   "source": [
    "# Entrega lista de recomendación\n",
    "get_recommendations(\"'Arboretum'\")"
   ]
  }
 ],
 "metadata": {
  "kernelspec": {
   "display_name": "Python 3 (ipykernel)",
   "language": "python",
   "name": "python3"
  },
  "language_info": {
   "codemirror_mode": {
    "name": "ipython",
    "version": 3
   },
   "file_extension": ".py",
   "mimetype": "text/x-python",
   "name": "python",
   "nbconvert_exporter": "python",
   "pygments_lexer": "ipython3",
   "version": "3.9.7"
  }
 },
 "nbformat": 4,
 "nbformat_minor": 5
}
