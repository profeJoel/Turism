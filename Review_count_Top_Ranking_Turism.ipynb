{
 "cells": [
  {
   "cell_type": "code",
   "execution_count": 2,
   "id": "40c81fa3",
   "metadata": {},
   "outputs": [],
   "source": [
    "import pandas as pd\n",
    "import numpy as np\n",
    "from sklearn.feature_extraction.text import TfidfVectorizer\n",
    "from sklearn.metrics.pairwise import linear_kernel"
   ]
  },
  {
   "cell_type": "code",
   "execution_count": 3,
   "id": "7b4db1cc",
   "metadata": {},
   "outputs": [],
   "source": [
    "df_coddi = pd.read_csv('coddi_simple_model.csv')"
   ]
  },
  {
   "cell_type": "code",
   "execution_count": 4,
   "id": "b74183d8",
   "metadata": {},
   "outputs": [
    {
     "data": {
      "text/html": [
       "<div>\n",
       "<style scoped>\n",
       "    .dataframe tbody tr th:only-of-type {\n",
       "        vertical-align: middle;\n",
       "    }\n",
       "\n",
       "    .dataframe tbody tr th {\n",
       "        vertical-align: top;\n",
       "    }\n",
       "\n",
       "    .dataframe thead th {\n",
       "        text-align: right;\n",
       "    }\n",
       "</style>\n",
       "<table border=\"1\" class=\"dataframe\">\n",
       "  <thead>\n",
       "    <tr style=\"text-align: right;\">\n",
       "      <th></th>\n",
       "      <th>item_id</th>\n",
       "      <th>name</th>\n",
       "      <th>latitude</th>\n",
       "      <th>longitude</th>\n",
       "      <th>global_average_rating</th>\n",
       "      <th>reviews_count</th>\n",
       "      <th>plan</th>\n",
       "      <th>review_id</th>\n",
       "      <th>average_rating</th>\n",
       "      <th>timestamp</th>\n",
       "      <th>user_id</th>\n",
       "    </tr>\n",
       "  </thead>\n",
       "  <tbody>\n",
       "    <tr>\n",
       "      <th>0</th>\n",
       "      <td>628858c72e93ec29e035fcd9</td>\n",
       "      <td>'Agua del Manzano'</td>\n",
       "      <td>-33.002696</td>\n",
       "      <td>-71.062806</td>\n",
       "      <td>4.00</td>\n",
       "      <td>1</td>\n",
       "      <td>628858c72e93ec29e035fcec</td>\n",
       "      <td>4.00</td>\n",
       "      <td>2016-08-16 10:53:40</td>\n",
       "      <td>628858c72e93ec29e035fceb</td>\n",
       "      <td>NaN</td>\n",
       "    </tr>\n",
       "    <tr>\n",
       "      <th>1</th>\n",
       "      <td>628858c72e93ec29e035fced</td>\n",
       "      <td>'Aldea de Tulor'</td>\n",
       "      <td>-22.964724</td>\n",
       "      <td>-68.237332</td>\n",
       "      <td>4.00</td>\n",
       "      <td>1</td>\n",
       "      <td>628858c72e93ec29e035fd00</td>\n",
       "      <td>4.00</td>\n",
       "      <td>2015-11-16 03:31:19</td>\n",
       "      <td>628858c72e93ec29e035fcff</td>\n",
       "      <td>NaN</td>\n",
       "    </tr>\n",
       "    <tr>\n",
       "      <th>2</th>\n",
       "      <td>628858c72e93ec29e035fd01</td>\n",
       "      <td>'Aguada Los Sapos'</td>\n",
       "      <td>-26.165451</td>\n",
       "      <td>-70.630121</td>\n",
       "      <td>3.00</td>\n",
       "      <td>1</td>\n",
       "      <td>628858c72e93ec29e035fd14</td>\n",
       "      <td>3.00</td>\n",
       "      <td>2015-12-14 08:09:36</td>\n",
       "      <td>628858c72e93ec29e035fd13</td>\n",
       "      <td>NaN</td>\n",
       "    </tr>\n",
       "    <tr>\n",
       "      <th>3</th>\n",
       "      <td>628858c72e93ec29e035fd15</td>\n",
       "      <td>'Alerce Milenario - Lañilahual'</td>\n",
       "      <td>-40.170024</td>\n",
       "      <td>-73.465583</td>\n",
       "      <td>4.50</td>\n",
       "      <td>1</td>\n",
       "      <td>628858c72e93ec29e035fd28</td>\n",
       "      <td>4.50</td>\n",
       "      <td>2015-06-18 02:41:54</td>\n",
       "      <td>628858c72e93ec29e035fd27</td>\n",
       "      <td>NaN</td>\n",
       "    </tr>\n",
       "    <tr>\n",
       "      <th>4</th>\n",
       "      <td>628858c72e93ec29e035fd29</td>\n",
       "      <td>'Arboretum'</td>\n",
       "      <td>-33.725292</td>\n",
       "      <td>-70.487355</td>\n",
       "      <td>2.25</td>\n",
       "      <td>1</td>\n",
       "      <td>628858c72e93ec29e035fd3c</td>\n",
       "      <td>2.25</td>\n",
       "      <td>2015-08-18 10:30:57</td>\n",
       "      <td>628858c72e93ec29e035fd3b</td>\n",
       "      <td>NaN</td>\n",
       "    </tr>\n",
       "  </tbody>\n",
       "</table>\n",
       "</div>"
      ],
      "text/plain": [
       "                    item_id                             name   latitude  \\\n",
       "0  628858c72e93ec29e035fcd9               'Agua del Manzano' -33.002696   \n",
       "1  628858c72e93ec29e035fced                 'Aldea de Tulor' -22.964724   \n",
       "2  628858c72e93ec29e035fd01               'Aguada Los Sapos' -26.165451   \n",
       "3  628858c72e93ec29e035fd15  'Alerce Milenario - Lañilahual' -40.170024   \n",
       "4  628858c72e93ec29e035fd29                      'Arboretum' -33.725292   \n",
       "\n",
       "   longitude  global_average_rating  reviews_count                       plan  \\\n",
       "0 -71.062806                   4.00              1   628858c72e93ec29e035fcec   \n",
       "1 -68.237332                   4.00              1   628858c72e93ec29e035fd00   \n",
       "2 -70.630121                   3.00              1   628858c72e93ec29e035fd14   \n",
       "3 -73.465583                   4.50              1   628858c72e93ec29e035fd28   \n",
       "4 -70.487355                   2.25              1   628858c72e93ec29e035fd3c   \n",
       "\n",
       "   review_id       average_rating                 timestamp  user_id  \n",
       "0       4.00  2016-08-16 10:53:40  628858c72e93ec29e035fceb      NaN  \n",
       "1       4.00  2015-11-16 03:31:19  628858c72e93ec29e035fcff      NaN  \n",
       "2       3.00  2015-12-14 08:09:36  628858c72e93ec29e035fd13      NaN  \n",
       "3       4.50  2015-06-18 02:41:54  628858c72e93ec29e035fd27      NaN  \n",
       "4       2.25  2015-08-18 10:30:57  628858c72e93ec29e035fd3b      NaN  "
      ]
     },
     "execution_count": 4,
     "metadata": {},
     "output_type": "execute_result"
    }
   ],
   "source": [
    "df_coddi.head()"
   ]
  },
  {
   "cell_type": "code",
   "execution_count": 5,
   "id": "a857d174",
   "metadata": {},
   "outputs": [
    {
     "data": {
      "text/plain": [
       "0       1\n",
       "1       1\n",
       "2       1\n",
       "3       1\n",
       "4       1\n",
       "       ..\n",
       "8143    0\n",
       "8144    0\n",
       "8145    0\n",
       "8146    0\n",
       "8147    0\n",
       "Name: reviews_count, Length: 8148, dtype: int64"
      ]
     },
     "execution_count": 5,
     "metadata": {},
     "output_type": "execute_result"
    }
   ],
   "source": [
    "df_coddi['reviews_count']"
   ]
  },
  {
   "cell_type": "code",
   "execution_count": 7,
   "id": "820219ae",
   "metadata": {},
   "outputs": [],
   "source": [
    "def get_recommendations():\n",
    "    df_coddi.sort_values(by=['reviews_count'], ascending=False)\n",
    "    top10 = df_coddi.iloc[:10, df_coddi.columns.get_loc('name')]\n",
    "    for it in top10:\n",
    "        print(it)"
   ]
  },
  {
   "cell_type": "code",
   "execution_count": 8,
   "id": "b34d6361",
   "metadata": {},
   "outputs": [
    {
     "name": "stdout",
     "output_type": "stream",
     "text": [
      "'Agua del Manzano'\n",
      "'Aldea de Tulor'\n",
      "'Aguada Los Sapos'\n",
      "'Alerce Milenario - Lañilahual'\n",
      "'Arboretum'\n",
      "'Alto del Naranjo vía San Carlos de Apoquindo'\n",
      "'Baños Campanario'\n",
      "'Alto del Naranjo por Puente Ñilhue'\n",
      "'Baños Azules'\n",
      "'Baños Coyuco'\n"
     ]
    }
   ],
   "source": [
    "get_recommendations()"
   ]
  }
 ],
 "metadata": {
  "kernelspec": {
   "display_name": "Python 3 (ipykernel)",
   "language": "python",
   "name": "python3"
  },
  "language_info": {
   "codemirror_mode": {
    "name": "ipython",
    "version": 3
   },
   "file_extension": ".py",
   "mimetype": "text/x-python",
   "name": "python",
   "nbconvert_exporter": "python",
   "pygments_lexer": "ipython3",
   "version": "3.9.7"
  }
 },
 "nbformat": 4,
 "nbformat_minor": 5
}
